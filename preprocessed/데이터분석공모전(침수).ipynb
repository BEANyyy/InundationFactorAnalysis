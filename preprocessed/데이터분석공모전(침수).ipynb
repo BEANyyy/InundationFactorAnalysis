{
 "cells": [
  {
   "cell_type": "code",
   "execution_count": 2,
   "id": "b17983c9",
   "metadata": {},
   "outputs": [],
   "source": [
    "# 라이브러리 불러오기\n",
    "import pandas as pd\n",
    "import numpy as np \n",
    "import matplotlib.pyplot as plt\n",
    "import os\n",
    "import seaborn as sns\n",
    "import warnings\n",
    "warnings.filterwarnings(\"ignore\")"
   ]
  },
  {
   "cell_type": "code",
   "execution_count": 27,
   "id": "e3258387",
   "metadata": {},
   "outputs": [
    {
     "data": {
      "text/plain": [
       "303          0 ~ 1 \n",
       "433       0.2 ~ 1.8\n",
       "453     0.3  ~ 0.8 \n",
       "454     0.3  ~ 0.4 \n",
       "455     0.3  ~ 0.4 \n",
       "           ...     \n",
       "2172        0.3~0.5\n",
       "2325        0.3~0.5\n",
       "2326        0.5~1.0\n",
       "2327        0.5~1.0\n",
       "2328        0.3~1.0\n",
       "Name: 침수심(FLUD_DPWT), Length: 100, dtype: object"
      ]
     },
     "execution_count": 27,
     "metadata": {},
     "output_type": "execute_result"
    }
   ],
   "source": [
    "## y : 침수심\n",
    "flooding = pd.read_csv(\"C:/데이터분석공모전/침수/침수심.csv\",encoding=\"cp949\")\n",
    "flooding = flooding[flooding['행정구역 코드(ADM_CD)'].str.contains('부산광역시')&flooding['침수심(FLUD_DPWT)'].str.contains('~')]\n",
    "flooding = flooding.iloc[:,8]\n",
    "flooding"
   ]
  },
  {
   "cell_type": "code",
   "execution_count": 18,
   "id": "9ba28a58",
   "metadata": {},
   "outputs": [
    {
     "data": {
      "text/plain": [
       "0      18.2156\n",
       "1      25.6000\n",
       "2      19.6927\n",
       "3      19.6927\n",
       "4      18.2156\n",
       "        ...   \n",
       "911    20.9229\n",
       "912    20.9229\n",
       "913    20.9229\n",
       "914    20.9229\n",
       "915    20.9229\n",
       "Name: DEPTH_10, Length: 916, dtype: float64"
      ]
     },
     "execution_count": 18,
     "metadata": {},
     "output_type": "execute_result"
    }
   ],
   "source": [
    "## x :  10, 20, 50cm 별 침수 유발하는 강우량 데이터\n",
    "fall_10 = pd.read_csv(\"C:/데이터분석공모전/침수/침수유발 기준강우량 데이터_2022(부산).csv\") \n",
    "fall_10 = fall_10.iloc[:,8]\n",
    "fall_10"
   ]
  },
  {
   "cell_type": "code",
   "execution_count": 20,
   "id": "549ce6f5",
   "metadata": {},
   "outputs": [
    {
     "data": {
      "text/plain": [
       "0      32.4466\n",
       "1      45.6000\n",
       "2      35.0777\n",
       "3      35.0777\n",
       "4      32.4466\n",
       "        ...   \n",
       "911    37.2689\n",
       "912    37.2689\n",
       "913    37.2689\n",
       "914    37.2689\n",
       "915    37.2689\n",
       "Name: DEPTH_20, Length: 916, dtype: float64"
      ]
     },
     "execution_count": 20,
     "metadata": {},
     "output_type": "execute_result"
    }
   ],
   "source": [
    "fall_20 = pd.read_csv(\"C:/데이터분석공모전/침수/침수유발 기준강우량 데이터_2022(부산).csv\") \n",
    "fall_20 = fall_20.iloc[:,9]\n",
    "fall_20"
   ]
  },
  {
   "cell_type": "code",
   "execution_count": 21,
   "id": "16ecc341",
   "metadata": {},
   "outputs": [
    {
     "data": {
      "text/plain": [
       "0       75.1396\n",
       "1      105.6000\n",
       "2       81.2327\n",
       "3       81.2327\n",
       "4       75.1396\n",
       "         ...   \n",
       "911     86.3069\n",
       "912     86.3069\n",
       "913     86.3069\n",
       "914     86.3069\n",
       "915     86.3069\n",
       "Name: DEPTH_50, Length: 916, dtype: float64"
      ]
     },
     "execution_count": 21,
     "metadata": {},
     "output_type": "execute_result"
    }
   ],
   "source": [
    "fall_50 = pd.read_csv(\"C:/데이터분석공모전/침수/침수유발 기준강우량 데이터_2022(부산).csv\") \n",
    "fall_50 = fall_50.iloc[:,10]\n",
    "fall_50"
   ]
  },
  {
   "cell_type": "code",
   "execution_count": null,
   "id": "cc842aa7",
   "metadata": {},
   "outputs": [],
   "source": []
  }
 ],
 "metadata": {
  "kernelspec": {
   "display_name": "Python 3.9.13 64-bit",
   "language": "python",
   "name": "python3"
  },
  "language_info": {
   "codemirror_mode": {
    "name": "ipython",
    "version": 3
   },
   "file_extension": ".py",
   "mimetype": "text/x-python",
   "name": "python",
   "nbconvert_exporter": "python",
   "pygments_lexer": "ipython3",
   "version": "3.9.13"
  },
  "vscode": {
   "interpreter": {
    "hash": "20015ed868ac3b09b123d2cac93242bc4f534ee997b44222000587294542edc0"
   }
  }
 },
 "nbformat": 4,
 "nbformat_minor": 5
}
