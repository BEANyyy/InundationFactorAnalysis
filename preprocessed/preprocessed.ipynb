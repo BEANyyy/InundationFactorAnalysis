{
 "cells": [
  {
   "cell_type": "markdown",
   "metadata": {},
   "source": [
    "1. 침수심 csv 에서 구별, 날짜, 침수심(y) 열 데이터를 불러온다.(기준)"
   ]
  },
  {
   "cell_type": "code",
   "execution_count": null,
   "metadata": {},
   "outputs": [],
   "source": [
    "import pandas as pd"
   ]
  },
  {
   "cell_type": "code",
   "execution_count": null,
   "metadata": {},
   "outputs": [],
   "source": [
    "#침수심_부산_수정.csv 데이터를 불러와서 기준 데이터만 뽑아 낸다.\n",
    "data = pd.read_csv(\"침수심_부산_수정.csv\", encoding='CP949')\n",
    "\n",
    "#기준데이터를 저장할 데이터프레임 만들기\n",
    "stnd = pd.DataFrame()\n",
    "stnd['idx'] = data['순번']\n",
    "stnd['구 별-key1'] = data['행정구역 코드(ADM_CD)'].str.split(\" \",expand=True)[1]\n",
    "stnd['날짜(년-월-일)-key2'] = data['작성 년월(WRITNG_YM)']\n",
    "stnd['침수심(y)'] = data['침수심(FLUD_DPWT)']\n",
    "stnd['침수심(y)'].isnull().value_counts()"
   ]
  },
  {
   "cell_type": "code",
   "execution_count": null,
   "metadata": {},
   "outputs": [],
   "source": [
    "stnd['침수심(y)']=stnd['침수심(y)'].fillna(0.001)\n",
    "stnd"
   ]
  },
  {
   "cell_type": "markdown",
   "metadata": {},
   "source": [
    "2. 강수량 csv 에서 구별, 강수량 열 데이터를 불러온다."
   ]
  },
  {
   "cell_type": "code",
   "execution_count": null,
   "metadata": {},
   "outputs": [],
   "source": [
    "#부산_일강수량_평균.csv 불러오기\n",
    "rain = pd.read_csv(\"부산_일강수량_평균.csv\", encoding='CP949')\n",
    "\n",
    "#null 값 0으로 채우기\n",
    "rain['강수량(mm)'] = rain['강수량(mm)'].fillna(0)\n",
    "\n",
    "#필요 없는 열 삭제\n",
    "rain = rain.drop('지점', axis=1)\n",
    "\n",
    "#stnd, rain 합치기\n",
    "#stnd:'날짜(년-월-일)-key2' 와 rain:'날짜' 같은 것끼리 연결\n",
    "merge_rain = stnd.merge(rain, left_on='날짜(년-월-일)-key2', right_on='날짜')\n",
    "\n",
    "#'날짜'열 삭제\n",
    "merge_rain = merge_rain.drop('날짜', axis=1)\n",
    "#열 이름 바꾸기\n",
    "merge_rain = merge_rain.rename(columns={'강수량(mm)':'강수량(일 평균)'})\n",
    "merge_rain"
   ]
  },
  {
   "cell_type": "markdown",
   "metadata": {},
   "source": [
    "3. 하수도 보급률 csv에서 인구, 면적, 구별 열 데이터 불러온다."
   ]
  },
  {
   "cell_type": "markdown",
   "metadata": {},
   "source": [
    "4. 하수도 보급률 csv에서 지류, 구 열 뽑기"
   ]
  },
  {
   "cell_type": "code",
   "execution_count": null,
   "metadata": {},
   "outputs": [],
   "source": [
    "#하수도 보급률_부산만.csv 불러오기\n",
    "swer = pd.read_csv(\"하수도 보급률_부산만.csv\", encoding='CP949')\n",
    "\n",
    "#인구, 면적, 구별 열 데이터 불러온다.\n",
    "swer = swer[['시도', '구군', '총인구(명)', '총면적']]\n",
    "\n",
    "\n",
    "#새로운 인구밀도 열 생성 후 (인구/면적) 값 넣기\n",
    "pd.options.display.float_format = '{:.5f}'.format #지수표현식으로 나오지 않도록 설정\n",
    "swer['인구밀도'] = swer['총인구(명)'] / swer['총면적']\n",
    "\n",
    "#인구, 면적, 시도 열 삭제\n",
    "swer = swer.drop(['총인구(명)', '총면적', '시도'], axis=1)\n",
    "\n",
    "#구별 , 인구밀도 데이터를 기준데이터에 맞춰 병합   \n",
    "swer = swer[['구군', '인구밀도']]\n",
    "\n",
    "#swer, merge_rain 합치기\n",
    "#swer:'구 별-key1' 와 merge_rain:'시도구군' 같은 것끼리 연결\n",
    "merge_swer = merge_rain.merge(swer, left_on='구 별-key1', right_on='구군', how = 'outer')\n",
    "\n",
    "#'구군' 열 삭제\n",
    "merge_swer = merge_swer.drop('구군', axis=1)\n",
    "\n",
    "#열 이름 바꾸기\n",
    "merge_swer = merge_swer.rename(columns={'인구밀도':'인구밀도(인구/면적)'})\n",
    "\n",
    "#NaN값이 있으면 제거하기\n",
    "merge_swer = merge_swer.dropna(subset=['구 별-key1'], how='any', axis=0)\n",
    "\n",
    "merge_swer"
   ]
  },
  {
   "cell_type": "markdown",
   "metadata": {},
   "source": [
    "5. 하수도_인구_및_보급률 csv에서 보급률과 구 컬럼 추출 후 기준데이터에 병합"
   ]
  },
  {
   "cell_type": "code",
   "execution_count": null,
   "metadata": {},
   "outputs": [],
   "source": [
    "#하수도_인구_및_보급률(2009-2020).csv 불러오기\n",
    "swer2 = pd.read_csv(\"하수도_인구_및_보급률(2009-2020).csv\", encoding='CP949')\n",
    "\n",
    "#날짜 비교를 위해 년도만 문자열 슬라이싱\n",
    "merge_swer['년'] = merge_swer['날짜(년-월-일)-key2'].str.slice(start=0, stop=4)\n",
    "merge_swer['년'] = merge_swer['년'].fillna(0)\n",
    "\n",
    "#'구군별(1)'과 '하수도 보급률 (%)'만 추출\n",
    "swer2 = swer2[['시점', '구군별(1)', '하수도 보급률 (%)']]\n",
    "\n",
    "#swer2, merge_swer 합치기\n",
    "#swer2:'구군별(1)' 와 merge_swer:'구 별-key1' && swer2: 같은 것끼리 연결\n",
    "merge_swer['년'] = merge_swer['년'].astype(int)\n",
    "merge_swer2 = merge_swer.merge(swer2, left_on=['구 별-key1', '년'], right_on=['구군별(1)', '시점'], how = 'outer')\n",
    "\n",
    "#NaN값이 있으면 제거하기\n",
    "merge_swer2 = merge_swer2.dropna(subset=['idx'], how='any', axis=0)\n",
    "\n",
    "\n",
    "#2021년 하수도 보급률 데이터를 2020년 데이터로 채우기\n",
    "swer2_2021 = swer2[swer2['시점'] == 2020]\n",
    "swer2_2021['시점'] = swer2_2021['시점'].replace(2020, 2021)\n",
    "\n",
    "#merge_swer, swer2_2021 합치기\n",
    "#merge_swer:'구 별-key1' 와 swer2_2021:'구군별(1)' &&  merge_swer:'년'과 swer2_2021:'시점'같은 것끼리 연결\n",
    "merge_swer2 = merge_swer2.merge(swer2_2021, left_on=['구 별-key1', '년'], right_on=['구군별(1)', '시점'], how = 'outer')\n",
    "\n",
    "#NaN값이 있으면 제거하기\n",
    "merge_swer2 = merge_swer2.dropna(subset=['idx'], how='any', axis=0)\n",
    "\n",
    "#2021년 빈 데이터 값 채우기\n",
    "merge_swer2['하수도 보급률 (%)_x'] = merge_swer2['하수도 보급률 (%)_x'].fillna(merge_swer2['하수도 보급률 (%)_y'])\n",
    "\n",
    "#안 쓰는 열 삭제\n",
    "merge_swer2 = merge_swer2.drop(['년', '시점_x', '시점_y', '구군별(1)_x','구군별(1)_y', '하수도 보급률 (%)_y'], axis=1)\n",
    "merge_swer2 = merge_swer2.rename(columns={'하수도 보급률 (%)_x':'하수도 보급률 (%)'})\n",
    "merge_swer2"
   ]
  },
  {
   "cell_type": "markdown",
   "metadata": {},
   "source": [
    "6. 하수도 보급률 csv에서 구 , 설치율 컬럼 추출 후 기준데이터에 병합"
   ]
  },
  {
   "cell_type": "code",
   "execution_count": null,
   "metadata": {},
   "outputs": [],
   "source": [
    "#하수도 보급률_부산만.csv 불러오기\n",
    "swer3 = pd.read_csv(\"하수도 보급률_부산만.csv\", encoding='CP949')\n",
    "swer3 = swer3[['구군','총면적','하수도설치율','하수처리구역 내 면적']]\n",
    "\n",
    "swer3['하수도설치율']=swer3['하수도설치율']/swer3['총면적']\n",
    "\n",
    "merge_swer3 = merge_swer2.merge(swer3, left_on='구 별-key1', right_on='구군', how = 'outer')\n",
    "\n",
    "#'구군' 열 삭제\n",
    "merge_swer3 = merge_swer3.drop('구군', axis=1)\n",
    "merge_swer3 = merge_swer3.drop('총면적', axis=1)\n",
    "\n",
    "#열 이름 바꾸기\n",
    "merge_swer3 = merge_swer3.rename(columns={'하수도설치율':'하수도 설치율(%)/총면적'})\n",
    "\n",
    "#NaN값이 있으면 제거하기\n",
    "merge_swer3 = merge_swer3.dropna(subset=['idx'], how='any', axis=0)\n",
    "\n",
    "merge_swer3"
   ]
  },
  {
   "cell_type": "markdown",
   "metadata": {},
   "source": [
    "7. 배수 펌프장 서비스 csv 에서 배수면적, 처리능력, 구 데이터 추출"
   ]
  },
  {
   "cell_type": "code",
   "execution_count": null,
   "metadata": {},
   "outputs": [],
   "source": [
    "#한국국토정보공사_배수펌프장 서비스_수정.csv 불러오기\n",
    "p_svc = pd.read_csv(\"부산광역시_배수 펌프장 현황_20220228.csv\", encoding='CP949')\n",
    "\n",
    "#구군, 배수량(제곱미터_분) 데이터 추출\n",
    "p_svc = p_svc[['구군', '배수량(제곱미터_분)','유수지 용량(제곱미터)','유수지 면적(제곱미터)']]\n",
    "\n",
    "p_svc['유수지 용량(제곱미터)']=p_svc['유수지 용량(제곱미터)']/p_svc['유수지 면적(제곱미터)']\n",
    "#구별 평균 내기\n",
    "mean = p_svc.groupby('구군')\n",
    "mean = mean.mean().reset_index() #평균\n",
    "mean['구군']  = mean['구군'].str.strip()  # 앞 뒤 공백을 제거\n",
    "\n",
    "#데이터 합치기\n",
    "#merge_swer3, mean 합치기\n",
    "#mean:'구' 와 merge_swer3:'구 별-key1': 같은 것끼리 연결\n",
    "merge_p_svc = merge_swer3.merge(mean, left_on='구 별-key1', right_on='구군', how ='outer')\n",
    "merge_p_svc\n",
    "merge_p_svc = merge_p_svc.drop(['구군','유수지 면적(제곱미터)'], axis=1)\n",
    "\n",
    "#열 이름 바꾸기\n",
    "merge_p_svc = merge_p_svc.rename(columns={'유수지 용량(제곱미터)':'유수지 면적 내 용량'})\n",
    "\n",
    "#NaN값이 있으면 제거하기\n",
    "merge_p_svc = merge_p_svc.dropna(subset=['idx'], how='any', axis=0)\n",
    "\n",
    "#NaN은 0으로 채우기\n",
    "merge_p_svc['배수량(제곱미터_분)'] = merge_p_svc['배수량(제곱미터_분)'].fillna(merge_p_svc['배수량(제곱미터_분)'].mean())\n",
    "merge_p_svc['유수지 면적 내 용량'] = merge_p_svc['유수지 면적 내 용량'].fillna(merge_p_svc['유수지 면적 내 용량'].mean())\n",
    "merge_p_svc"
   ]
  },
  {
   "cell_type": "code",
   "execution_count": null,
   "metadata": {},
   "outputs": [],
   "source": [
    "#한국국토정보공사_배수펌프장 서비스_수정.csv 불러오기\n",
    "typ = pd.read_csv(\"태풍목록(2009-2021)_수정.csv\", encoding='CP949')\n",
    "\n",
    "\n",
    "#날짜, 태풍 이름 추출\n",
    "typ = typ[['태풍명', '발생']]\n",
    "\n",
    "#'발생' 열 가공\n",
    "typ['발생'] = typ['발생'].str.replace('.', '-')\n",
    "\n",
    "#merge_swer3, p_svc 합치기\n",
    "#typ:'발생' 과 merge_p_svc :'날짜(년-월-일)-key2': 같은 것끼리 연결\n",
    "merge_typ = merge_p_svc .merge(typ, left_on='날짜(년-월-일)-key2', right_on='발생', how = 'outer')\n",
    "\n",
    "#'발생' 열 삭제\n",
    "merge_typ = merge_typ.drop('발생', axis=1)\n",
    "\n",
    "#NaN값이 있으면 제거하기\n",
    "merge_typ = merge_typ.dropna(subset=['idx'], how='any', axis=0)\n",
    "\n",
    "#태풍 열 이름 바꾸기 : '태풍명' => '태풍 발생 여부'\n",
    "merge_typ = merge_typ.rename(columns={'태풍명':'태풍 발생 여부'})\n",
    "\n",
    "#NAN값을 제외한 태풍 확인\n",
    "merge_typ['태풍 발생 여부'].dropna()"
   ]
  },
  {
   "cell_type": "markdown",
   "metadata": {},
   "source": [
    "8. 태풍 csv에서 날짜, 태풍 이름 컬럼 추출 후 기준 데이터에 합치기"
   ]
  },
  {
   "cell_type": "code",
   "execution_count": null,
   "metadata": {},
   "outputs": [],
   "source": [
    "# #merge_typ[merge_typ['태풍 발생 여부'].empty, : ]\n",
    "# #태풍 이름이 있으면 1로 채우기\n",
    "# if merge_typ['태풍 발생 여부'] != merge_typ['태풍 발생 여부'].isnull():\n",
    "#   merge_typ['태풍 발생 여부'] = 0\n",
    "#태풍 이름이 있으면 1로 채우기\n",
    "merge_typ['태풍 발생 여부'] = merge_typ['태풍 발생 여부'].replace('하구핏', 1)\n",
    "\n",
    "#태풍 발생하지 않은 행(NaN)은 0으로 채우기\n",
    "merge_typ['태풍 발생 여부'] = merge_typ['태풍 발생 여부'].fillna(0)\n",
    "merge_typ['태풍 발생 여부'] = pd.to_numeric(merge_typ['태풍 발생 여부'])"
   ]
  },
  {
   "cell_type": "code",
   "execution_count": null,
   "metadata": {},
   "outputs": [],
   "source": [
    "# #merge_typ[merge_typ['태풍 발생 여부'].empty, : ]\n",
    "# #태풍 이름이 있으면 1로 채우기\n",
    "# if merge_typ['태풍 발생 여부'] != merge_typ['태풍 발생 여부'].isnull():\n",
    "#   merge_typ['태풍 발생 여부'] = 0\n",
    "#태풍 이름이 있으면 1로 채우기\n",
    "merge_typ['태풍 발생 여부'] = merge_typ['태풍 발생 여부'].replace('하구핏', 1)\n",
    "\n",
    "#태풍 발생하지 않은 행(NaN)은 0으로 채우기\n",
    "merge_typ['태풍 발생 여부'] = merge_typ['태풍 발생 여부'].fillna(0)\n",
    "merge_typ['태풍 발생 여부'] = pd.to_numeric(merge_typ['태풍 발생 여부'])"
   ]
  },
  {
   "cell_type": "code",
   "execution_count": null,
   "metadata": {},
   "outputs": [],
   "source": [
    "import numpy as np\n",
    "\n",
    "#침수심_부산_수정.csv 불러오기\n",
    "cause = pd.read_csv(\"침수심_부산_수정.csv\", encoding='CP949')\n",
    "\n",
    "#순번, 침수 재해 명(F_DSSTR_NM), 침수 원인 상세(F_CUE_DTL) 추출\n",
    "cause = cause[['순번', '침수 재해 명(F_DSSTR_NM)', '침수 원인 상세(F_CUE_DTL)']]\n",
    "\n",
    "temp = cause[cause['침수 재해 명(F_DSSTR_NM)'].str.contains('태풍')|cause['침수 원인 상세(F_CUE_DTL)'].str.contains('태풍')]\n",
    "temp2 = temp['순번']\n",
    "temp2= temp2.to_frame()\n",
    "temp2['태풍 여부'] = 1\n",
    "\n",
    "#merge_swer3, p_svc 합치기\n",
    "#typ:'발생' 과 merge_p_svc :'날짜(년-월-일)-key2': 같은 것끼리 연결\n",
    "merge_typ2 = merge_typ.merge(temp2, left_on='idx', right_on='순번', how = 'outer')\n",
    "\n",
    "#기존에 있던 태풍 발생 여부 데이터랑 합치기 : NaN 값이 있는 곳에 기존 데이터 채워넣기\n",
    "merge_typ2['temp'] = np.where(pd.notnull(merge_typ2['태풍 여부']) ==True, merge_typ2['태풍 여부'], merge_typ2['태풍 발생 여부'])\n",
    "\n",
    "#필요 없는 열 삭제\n",
    "merge_typ2 = merge_typ2.drop(['순번', '태풍 발생 여부', '태풍 여부'], axis=1)\n",
    "merge_typ2 = merge_typ2.rename(columns={'temp':'태풍 발생 여부'})\n",
    "\n",
    "#Y:침수심, X1:강수량, X2:인구밀도, X3:하수도보급률, X4:하수도설치율/면적, X5:하수처리구역내면적, X6:배수량, X7:유수지용량, X8:태풍발생여부\n",
    "merge_typ2=merge_typ2.drop(['idx','구 별-key1','날짜(년-월-일)-key2'],axis=1)\n",
    "merge_typ2.columns = ['Y','X1','X2','X3','X4','X5','X6','X7','X8']\n",
    "\n",
    "merge_typ2=merge_typ2.replace(0,0.001)\n"
   ]
  },
  {
   "cell_type": "markdown",
   "metadata": {},
   "source": [
    "정규화"
   ]
  },
  {
   "cell_type": "code",
   "execution_count": null,
   "metadata": {},
   "outputs": [],
   "source": [
    "import pandas as pd\n",
    "import io\n",
    "from sklearn.preprocessing import MinMaxScaler\n",
    "\n",
    "df_n = pd.read_csv('전처리완료데이터.csv', encoding=\"cp949\")\n",
    "\n",
    "scaler = MinMaxScaler()\n",
    "df_n.iloc[:,range(5,10)]=scaler.fit_transform(df_n.iloc[:,range(5,10)])\n",
    "\n",
    "df_n.to_csv('정규화.csv', encoding='euc-kr',index=False)\n",
    "df_n\n"
   ]
  }
 ],
 "metadata": {
  "kernelspec": {
   "display_name": "Python 3",
   "language": "python",
   "name": "python3"
  },
  "language_info": {
   "name": "python",
   "version": "3.9.13"
  },
  "orig_nbformat": 4
 },
 "nbformat": 4,
 "nbformat_minor": 2
}
