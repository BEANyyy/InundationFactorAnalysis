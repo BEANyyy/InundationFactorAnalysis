{
 "cells": [
  {
   "cell_type": "code",
   "execution_count": 2,
   "metadata": {},
   "outputs": [],
   "source": [
    "import gc\n",
    "import glob\n",
    "import geopandas as gpd"
   ]
  },
  {
   "cell_type": "code",
   "execution_count": 8,
   "metadata": {},
   "outputs": [],
   "source": [
    "# SHAPE 파일 경로 리스트\n",
    "file_path = glob.glob(\"한국국토정보공사_침수흔적정보 배수펌프장_20220315.zip\")[0]"
   ]
  },
  {
   "cell_type": "code",
   "execution_count": 9,
   "metadata": {},
   "outputs": [],
   "source": [
    "# Shape 파일을 GeoDataFrame으로 불러오기\n",
    "gdf = gpd.GeoDataFrame.from_file(file_path, encoding='CP949')"
   ]
  },
  {
   "cell_type": "code",
   "execution_count": 10,
   "metadata": {},
   "outputs": [
    {
     "name": "stderr",
     "output_type": "stream",
     "text": [
      "c:\\Users\\YEBIN\\AppData\\Local\\Programs\\Python\\Python39\\lib\\site-packages\\pyproj\\crs\\crs.py:141: FutureWarning: '+init=<authority>:<code>' syntax is deprecated. '<authority>:<code>' is the preferred initialization method. When making the change, be mindful of axis order changes: https://pyproj4.github.io/pyproj/stable/gotchas.html#axis-order-changes-in-proj-6\n",
      "  in_crs_string = _prepare_from_proj_string(in_crs_string)\n"
     ]
    }
   ],
   "source": [
    "# 경위도 좌표계 설정\n",
    "gdf = gdf.to_crs({\"init\": \"epsg:4326\"})"
   ]
  },
  {
   "cell_type": "code",
   "execution_count": 11,
   "metadata": {},
   "outputs": [
    {
     "name": "stdout",
     "output_type": "stream",
     "text": [
      "<class 'geopandas.geodataframe.GeoDataFrame'>\n",
      "RangeIndex: 476 entries, 0 to 475\n",
      "Data columns (total 15 columns):\n",
      " #   Column      Non-Null Count  Dtype   \n",
      "---  ------      --------------  -----   \n",
      " 0   ADM_CD      476 non-null    object  \n",
      " 1   DETAIL_ADM  476 non-null    object  \n",
      " 2   PUMP_NM     476 non-null    object  \n",
      " 3   PUMP_DIV_N  414 non-null    object  \n",
      " 4   DRAIN_AREA  476 non-null    float64 \n",
      " 5   MT_FACIL_S  474 non-null    object  \n",
      " 6   PUMP_FACIL  470 non-null    object  \n",
      " 7   AVILATY     467 non-null    object  \n",
      " 8   PLAN_YR     462 non-null    object  \n",
      " 9   BLD_YR      460 non-null    object  \n",
      " 10  RV_NM       476 non-null    object  \n",
      " 11  RESERVOIR   476 non-null    float64 \n",
      " 12  X           476 non-null    float64 \n",
      " 13  Y           476 non-null    float64 \n",
      " 14  geometry    476 non-null    geometry\n",
      "dtypes: float64(4), geometry(1), object(10)\n",
      "memory usage: 55.9+ KB\n"
     ]
    }
   ],
   "source": [
    "# 데이터 정보\n",
    "gdf.info()"
   ]
  },
  {
   "cell_type": "code",
   "execution_count": 12,
   "metadata": {},
   "outputs": [
    {
     "data": {
      "text/html": [
       "<div>\n",
       "<style scoped>\n",
       "    .dataframe tbody tr th:only-of-type {\n",
       "        vertical-align: middle;\n",
       "    }\n",
       "\n",
       "    .dataframe tbody tr th {\n",
       "        vertical-align: top;\n",
       "    }\n",
       "\n",
       "    .dataframe thead th {\n",
       "        text-align: right;\n",
       "    }\n",
       "</style>\n",
       "<table border=\"1\" class=\"dataframe\">\n",
       "  <thead>\n",
       "    <tr style=\"text-align: right;\">\n",
       "      <th></th>\n",
       "      <th>ADM_CD</th>\n",
       "      <th>DETAIL_ADM</th>\n",
       "      <th>PUMP_NM</th>\n",
       "      <th>PUMP_DIV_N</th>\n",
       "      <th>DRAIN_AREA</th>\n",
       "      <th>MT_FACIL_S</th>\n",
       "      <th>PUMP_FACIL</th>\n",
       "      <th>AVILATY</th>\n",
       "      <th>PLAN_YR</th>\n",
       "      <th>BLD_YR</th>\n",
       "      <th>RV_NM</th>\n",
       "      <th>RESERVOIR</th>\n",
       "      <th>X</th>\n",
       "      <th>Y</th>\n",
       "      <th>geometry</th>\n",
       "    </tr>\n",
       "  </thead>\n",
       "  <tbody>\n",
       "    <tr>\n",
       "      <th>471</th>\n",
       "      <td>4825036022</td>\n",
       "      <td>경상남도 김해시 상동면 매리 837</td>\n",
       "      <td>새들제\\n배수장</td>\n",
       "      <td>농경지(22)ha</td>\n",
       "      <td>50.0</td>\n",
       "      <td>40HP, 127HP</td>\n",
       "      <td>400mm/1대\\n800mm/1대</td>\n",
       "      <td>총105㎥/분\\n25㎥/분×1대\\n80㎥/분×1대</td>\n",
       "      <td>20</td>\n",
       "      <td>1997</td>\n",
       "      <td>4825036022</td>\n",
       "      <td>0.0</td>\n",
       "      <td>378067.0</td>\n",
       "      <td>203981.0</td>\n",
       "      <td>POINT (128.95602 35.31940)</td>\n",
       "    </tr>\n",
       "    <tr>\n",
       "      <th>472</th>\n",
       "      <td>4825036022</td>\n",
       "      <td>경상남도 김해시 상동면 매리 791</td>\n",
       "      <td>매리배수장</td>\n",
       "      <td>농경지(22)ha</td>\n",
       "      <td>70.0</td>\n",
       "      <td>40HP, 27HP</td>\n",
       "      <td>400mm/1대\\n800mm/1대</td>\n",
       "      <td>총105㎥/분\\n25㎥/분×1대\\n80㎥/분×1대</td>\n",
       "      <td>20</td>\n",
       "      <td>1997</td>\n",
       "      <td>4825036022</td>\n",
       "      <td>0.0</td>\n",
       "      <td>377737.0</td>\n",
       "      <td>203913.0</td>\n",
       "      <td>POINT (128.95238 35.31884)</td>\n",
       "    </tr>\n",
       "    <tr>\n",
       "      <th>473</th>\n",
       "      <td>4825036024</td>\n",
       "      <td>경상남도 김해시 상동면 여차리 183-27</td>\n",
       "      <td>여차배수장</td>\n",
       "      <td>o농경지(32)ha</td>\n",
       "      <td>163.0</td>\n",
       "      <td>150HP, 300HP</td>\n",
       "      <td>600mm/1대\\n1,000mm/1대</td>\n",
       "      <td>총157㎥/분\\n51㎥/분×1대\\n106㎥/분×1대</td>\n",
       "      <td>20</td>\n",
       "      <td>1995</td>\n",
       "      <td>4825036024</td>\n",
       "      <td>0.0</td>\n",
       "      <td>372405.0</td>\n",
       "      <td>207908.0</td>\n",
       "      <td>POINT (128.89462 35.35576)</td>\n",
       "    </tr>\n",
       "    <tr>\n",
       "      <th>474</th>\n",
       "      <td>4827038034</td>\n",
       "      <td>경상남도 밀양시 무안면 성덕리 1103</td>\n",
       "      <td>성덕2\\n배수펌프장</td>\n",
       "      <td>밀양시</td>\n",
       "      <td>95.0</td>\n",
       "      <td>75HP×1대</td>\n",
       "      <td>500mm×1대</td>\n",
       "      <td>36㎥/분×1대</td>\n",
       "      <td>20</td>\n",
       "      <td>1986</td>\n",
       "      <td>4827038034</td>\n",
       "      <td>30.0</td>\n",
       "      <td>350123.0</td>\n",
       "      <td>216720.0</td>\n",
       "      <td>POINT (128.65120 35.43875)</td>\n",
       "    </tr>\n",
       "    <tr>\n",
       "      <th>475</th>\n",
       "      <td>1156011800</td>\n",
       "      <td>서울특별시 영등포구 도림동 254</td>\n",
       "      <td>도림동 2중수문</td>\n",
       "      <td>도시침수방지</td>\n",
       "      <td>150.4</td>\n",
       "      <td>500 × 4, (수)250 × 3</td>\n",
       "      <td>1,200, 1,000</td>\n",
       "      <td>236X4, 119X3</td>\n",
       "      <td>10</td>\n",
       "      <td>1982</td>\n",
       "      <td>1156011800</td>\n",
       "      <td>31000.0</td>\n",
       "      <td>190858.0</td>\n",
       "      <td>444952.0</td>\n",
       "      <td>POINT (126.89450 37.50674)</td>\n",
       "    </tr>\n",
       "  </tbody>\n",
       "</table>\n",
       "</div>"
      ],
      "text/plain": [
       "         ADM_CD               DETAIL_ADM     PUMP_NM  PUMP_DIV_N  DRAIN_AREA  \\\n",
       "471  4825036022      경상남도 김해시 상동면 매리 837    새들제\\n배수장   농경지(22)ha        50.0   \n",
       "472  4825036022      경상남도 김해시 상동면 매리 791       매리배수장   농경지(22)ha        70.0   \n",
       "473  4825036024  경상남도 김해시 상동면 여차리 183-27       여차배수장  o농경지(32)ha       163.0   \n",
       "474  4827038034    경상남도 밀양시 무안면 성덕리 1103  성덕2\\n배수펌프장         밀양시        95.0   \n",
       "475  1156011800       서울특별시 영등포구 도림동 254    도림동 2중수문      도시침수방지       150.4   \n",
       "\n",
       "              MT_FACIL_S            PUMP_FACIL                       AVILATY  \\\n",
       "471          40HP, 127HP    400mm/1대\\n800mm/1대   총105㎥/분\\n25㎥/분×1대\\n80㎥/분×1대   \n",
       "472           40HP, 27HP    400mm/1대\\n800mm/1대   총105㎥/분\\n25㎥/분×1대\\n80㎥/분×1대   \n",
       "473         150HP, 300HP  600mm/1대\\n1,000mm/1대  총157㎥/분\\n51㎥/분×1대\\n106㎥/분×1대   \n",
       "474              75HP×1대              500mm×1대                      36㎥/분×1대   \n",
       "475  500 × 4, (수)250 × 3          1,200, 1,000                  236X4, 119X3   \n",
       "\n",
       "    PLAN_YR BLD_YR       RV_NM  RESERVOIR         X         Y  \\\n",
       "471      20   1997  4825036022        0.0  378067.0  203981.0   \n",
       "472      20   1997  4825036022        0.0  377737.0  203913.0   \n",
       "473      20   1995  4825036024        0.0  372405.0  207908.0   \n",
       "474      20   1986  4827038034       30.0  350123.0  216720.0   \n",
       "475      10   1982  1156011800    31000.0  190858.0  444952.0   \n",
       "\n",
       "                       geometry  \n",
       "471  POINT (128.95602 35.31940)  \n",
       "472  POINT (128.95238 35.31884)  \n",
       "473  POINT (128.89462 35.35576)  \n",
       "474  POINT (128.65120 35.43875)  \n",
       "475  POINT (126.89450 37.50674)  "
      ]
     },
     "execution_count": 12,
     "metadata": {},
     "output_type": "execute_result"
    }
   ],
   "source": [
    "# 데이터 예시\n",
    "gdf.tail()"
   ]
  },
  {
   "cell_type": "code",
   "execution_count": 14,
   "metadata": {},
   "outputs": [
    {
     "data": {
      "text/plain": [
       "2118"
      ]
     },
     "execution_count": 14,
     "metadata": {},
     "output_type": "execute_result"
    }
   ],
   "source": [
    "# CSV로 저장할 파일명\n",
    "new_file_name = \"sample.csv\"\n",
    "\n",
    "# GeoDataFrame을 CSV 파일로 저장\n",
    "gdf.to_csv(f\"{new_file_name}\", encoding='utf8', index=False)\n",
    "\n",
    "# 메모리 정리\n",
    "del gdf\n",
    "gc.collect()"
   ]
  }
 ],
 "metadata": {
  "kernelspec": {
   "display_name": "Python 3.9.13 64-bit",
   "language": "python",
   "name": "python3"
  },
  "language_info": {
   "codemirror_mode": {
    "name": "ipython",
    "version": 3
   },
   "file_extension": ".py",
   "mimetype": "text/x-python",
   "name": "python",
   "nbconvert_exporter": "python",
   "pygments_lexer": "ipython3",
   "version": "3.9.13"
  },
  "orig_nbformat": 4,
  "vscode": {
   "interpreter": {
    "hash": "20015ed868ac3b09b123d2cac93242bc4f534ee997b44222000587294542edc0"
   }
  }
 },
 "nbformat": 4,
 "nbformat_minor": 2
}
